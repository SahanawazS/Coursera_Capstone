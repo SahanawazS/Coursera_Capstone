{
    "cells": [
        {
            "metadata": {},
            "cell_type": "markdown",
            "source": "# Coursera Capstone Project"
        },
        {
            "metadata": {},
            "cell_type": "markdown",
            "source": "## The Battle of Neighborhoods, finding an ideal place in North York Toronto"
        },
        {
            "metadata": {},
            "cell_type": "markdown",
            "source": "### 1. Introduction"
        },
        {
            "metadata": {},
            "cell_type": "raw",
            "source": "The purpose of this Project is to help people in exploring better facilities around their neighborhood. It will help people making smart and efficient decision on selecting great neighborhood out of numbers of other neighborhoods in North York Toronto.\n\nLots of people are migrating to various states of Canada and needed lots of research for good housing prices and reputated schools for their children. This project is for those people who are looking for better neighborhoods. For ease of accessing to Cafe, School, Super market, medical shops, grocery shops, mall, theatre, hospital, like minded people, etc.\n\nThis Project aims to create an analysis of features for people migrating to North York,toronto to search the best neighborhood as a comparative analysis between neighborhoods. The features include median housing price and better school according to ratings, crime rates of that particular area, road connectivity, weather conditions, good management for emergency, water resources both freash and waste water and excrement conveyed in sewers and recreational facilities."
        },
        {
            "metadata": {},
            "cell_type": "markdown",
            "source": "### 2. Methodology"
        },
        {
            "metadata": {},
            "cell_type": "markdown",
            "source": "Clustering Approach:\nTo compare the similarities of two cities, we decided to explore neighborhoods, segment them, and group them into clusters to find similar neighborhoods in a big city like New York and Toronto. To be able to do that, we need to cluster data which is a form of unsupervised machine learning: k-means clustering algorithm."
        },
        {
            "metadata": {},
            "cell_type": "markdown",
            "source": "## 3. Results"
        },
        {
            "metadata": {},
            "cell_type": "markdown",
            "source": "We shall explore the following:\n\n1.Map of Clusters in North York\n2.Average Housing Price by Clusters in North York\n3.School Ratings by Clusters in North York.\n\nThe Location:\n\nSaint-Laurent is a popular destination for new immigrants in Canada to reside. As a result, it is one of the most diverse and multicultural areas in the Greater Montreal Area, being home to various religious groups and places of worship. Although immigration has become a hot topic over the past few years with more governments seeking more restrictions on immigrants and refugees, the general trend of immigration into Canada has been one of on the rise.\n\nFoursquare API:\nThis project have used Four-square API as its prime data gathering source as it has a database of millions of places, especially their places API which provides the ability to perform location search, location sharing and details about a business."
        },
        {
            "metadata": {},
            "cell_type": "code",
            "source": "",
            "execution_count": null,
            "outputs": []
        }
    ],
    "metadata": {
        "kernelspec": {
            "name": "python3",
            "display_name": "Python 3.6",
            "language": "python"
        },
        "language_info": {
            "name": "python",
            "version": "3.6.9",
            "mimetype": "text/x-python",
            "codemirror_mode": {
                "name": "ipython",
                "version": 3
            },
            "pygments_lexer": "ipython3",
            "nbconvert_exporter": "python",
            "file_extension": ".py"
        }
    },
    "nbformat": 4,
    "nbformat_minor": 1
}